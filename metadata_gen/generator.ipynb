{
 "cells": [
  {
   "cell_type": "code",
   "execution_count": 1,
   "metadata": {},
   "outputs": [],
   "source": [
    "import random\n",
    "import json\n",
    "import os"
   ]
  },
  {
   "cell_type": "code",
   "execution_count": 2,
   "metadata": {},
   "outputs": [],
   "source": [
    "types = ['Brown Dwarf', 'Chthonian Planet', 'Eccentric Jupiter', 'Gas Giant', 'Helium Planet', 'Ammonia Planet', 'Carbon Planet',\n",
    "       'Earth Analog', 'Forest Planet', 'Ocean Planet']\n",
    "pweights = [52.5, 20, 10, 5, 4, 3, 2, 2, 1, 0.5]"
   ]
  },
  {
   "cell_type": "code",
   "execution_count": 3,
   "metadata": {},
   "outputs": [],
   "source": [
    "all_planets = []"
   ]
  },
  {
   "cell_type": "code",
   "execution_count": 4,
   "metadata": {},
   "outputs": [],
   "source": [
    "def create_new_planet(n):\n",
    "        all_planets = []\n",
    "        for j in range(n):\n",
    "            for i in range(1,16):\n",
    "                new_planet = {}\n",
    "                if i == 1:\n",
    "                    new_planet[\"size\"] = random.randrange(94,172)\n",
    "                    new_planet[\"temperature\"] = random.randrange(220, 260)\n",
    "                    new_planet[\"type\"] = random.choices(types, weights = pweights)[0]\n",
    "                    new_planet[\"position\"] = i\n",
    "                elif i == 2:\n",
    "                    new_planet[\"size\"] = random.randrange(104,176)\n",
    "                    new_planet[\"temperature\"] = random.randrange(170, 210)\n",
    "                    new_planet[\"type\"] = random.choices(types, weights = pweights)[0]\n",
    "                    new_planet[\"position\"] = i\n",
    "                elif i == 3:\n",
    "                    new_planet[\"size\"] = random.randrange(112,182)\n",
    "                    new_planet[\"temperature\"] = random.randrange(120, 160)\n",
    "                    new_planet[\"type\"] = random.choices(types, weights = pweights)[0]\n",
    "                    new_planet[\"position\"] = i\n",
    "                elif i == 4:\n",
    "                    new_planet[\"size\"] = random.randrange(118,208)\n",
    "                    new_planet[\"temperature\"] = random.randrange(70, 110)\n",
    "                    new_planet[\"type\"] =  'Brown dwarf'\n",
    "                    new_planet[\"position\"] = i\n",
    "                elif i == 5:\n",
    "                    new_planet[\"size\"] = random.randrange(133,232)\n",
    "                    new_planet[\"temperature\"] = random.randrange(60, 100)\n",
    "                    new_planet[\"type\"] = random.choices(types, weights = pweights)[0]\n",
    "                    new_planet[\"position\"] = i\n",
    "                elif i == 6:\n",
    "                    new_planet[\"size\"] = random.randrange(146,242)\n",
    "                    new_planet[\"temperature\"] = random.randrange(70, 90)\n",
    "                    new_planet[\"type\"] = random.choices(types, weights = pweights)[0]\n",
    "                    new_planet[\"position\"] = i\n",
    "                elif i == 7:\n",
    "                    new_planet[\"size\"] = random.randrange(152,248)\n",
    "                    new_planet[\"temperature\"] = random.randrange(40, 80)\n",
    "                    new_planet[\"type\"] = random.choices(types, weights = pweights)[0]\n",
    "                    new_planet[\"position\"] = i\n",
    "                elif i == 8:\n",
    "                    new_planet[\"size\"] = random.randrange(156,242)\n",
    "                    new_planet[\"temperature\"] = random.randrange(30, 70)\n",
    "                    new_planet[\"type\"] = random.choices(types, weights = pweights)[0]\n",
    "                    new_planet[\"position\"] = i\n",
    "                elif i == 9:\n",
    "                    new_planet[\"size\"] = random.randrange(150,246)\n",
    "                    new_planet[\"temperature\"] = random.randrange(20,60)\n",
    "                    new_planet[\"type\"] = random.choices(types, weights = pweights)[0]\n",
    "                    new_planet[\"position\"] = i\n",
    "                elif i == 10:\n",
    "                    new_planet[\"size\"] = random.randrange(142,232)\n",
    "                    new_planet[\"temperature\"] = random.randrange(10, 50)\n",
    "                    new_planet[\"type\"] = random.choices(types, weights = pweights)[0]\n",
    "                    new_planet[\"position\"] = i\n",
    "                elif i == 11:\n",
    "                    new_planet[\"size\"] = random.randrange(136,210)\n",
    "                    new_planet[\"temperature\"] = random.randrange(0, 40)\n",
    "                    new_planet[\"type\"] = random.choices(types, weights = pweights)[0]\n",
    "                    new_planet[\"position\"] = i\n",
    "                elif i == 12:\n",
    "                    new_planet[\"size\"] = random.randrange(125,186)\n",
    "                    new_planet[\"temperature\"] = random.randrange(-10, 30)\n",
    "                    new_planet[\"type\"] = random.choices(types, weights = pweights)[0]\n",
    "                    new_planet[\"position\"] = i\n",
    "                elif i == 13:\n",
    "                    new_planet[\"size\"] = random.randrange(114,172)\n",
    "                    new_planet[\"temperature\"] = random.randrange(-50, -10)\n",
    "                    new_planet[\"type\"] = random.choices(types, weights = pweights)[0]\n",
    "                    new_planet[\"position\"] = i\n",
    "                elif i == 14:\n",
    "                    new_planet[\"size\"] = random.randrange(100,168)\n",
    "                    new_planet[\"temperature\"] = random.randrange(-90, -50)\n",
    "                    new_planet[\"type\"] = 'Carbon planet'\n",
    "                    new_planet[\"position\"] = i\n",
    "                elif i == 15:\n",
    "                    new_planet[\"size\"] = random.randrange(90,164)\n",
    "                    new_planet[\"temperature\"] = random.randrange(-130, -90)\n",
    "                    new_planet[\"type\"] = random.choices(types, weights = pweights)[0]\n",
    "                    new_planet[\"position\"] = i\n",
    "                all_planets.append(new_planet)\n",
    "            \n",
    "        return all_planets"
   ]
  },
  {
   "cell_type": "code",
   "execution_count": 5,
   "metadata": {},
   "outputs": [],
   "source": [
    "planets = create_new_planet(50)"
   ]
  },
  {
   "cell_type": "code",
   "execution_count": 6,
   "metadata": {},
   "outputs": [],
   "source": [
    "def all_unique(all_planets):\n",
    "    seen = list()\n",
    "    return not any(i in seen or seen.append(i) for i in all_planets)"
   ]
  },
  {
   "cell_type": "code",
   "execution_count": 7,
   "metadata": {},
   "outputs": [
    {
     "name": "stdout",
     "output_type": "stream",
     "text": [
      "Are all images unique? False\n",
      "[]\n"
     ]
    }
   ],
   "source": [
    "print(\"Are all images unique?\", all_unique(planets))\n",
    "# Add token Id to each image\n",
    "i = 1\n",
    "for item in planets:\n",
    "    item[\"tokenId\"] = i\n",
    "    i = i + 1\n",
    "   \n",
    "print(all_planets)"
   ]
  },
  {
   "cell_type": "code",
   "execution_count": 8,
   "metadata": {},
   "outputs": [],
   "source": [
    "os.mkdir(f'./metadata')\n",
    "\n",
    "METADATA_FILE_NAME = './all-traits.json'; \n",
    "with open(METADATA_FILE_NAME, 'w') as outfile:\n",
    "    json.dump(planets, outfile, indent=4)"
   ]
  },
  {
   "cell_type": "code",
   "execution_count": 9,
   "metadata": {},
   "outputs": [],
   "source": [
    "### Generate Metadata for each Image    \n",
    "\n",
    "f = open('./all-traits.json',) \n",
    "data = json.load(f)\n",
    "\n",
    "# Changes this IMAGES_BASE_URL to yours \n",
    "IMAGES_BASE_URL = \"ipfs://QmcTXgGCiMpNKeYP9aQs5hAuUPzeWumrARoc4og2wnFECp/\"\n",
    "PROJECT_NAME = \"NoGame v0.2\"\n",
    "\n",
    "def getAttribute(key, value):\n",
    "    return {\n",
    "        \"trait_type\": key,\n",
    "        \"value\": value\n",
    "    }\n",
    "for i in data:\n",
    "    token_id = i[\"tokenId\"]\n",
    "    token = {\n",
    "        \"image\": IMAGES_BASE_URL + str(token_id%15) + '.png',\n",
    "        \"tokenId\": token_id,\n",
    "        \"name\": PROJECT_NAME + ' #' + str(token_id),\n",
    "        \"attributes\": []\n",
    "    }\n",
    "    token[\"attributes\"].append(getAttribute(\"size\", i[\"size\"]))\n",
    "    token[\"attributes\"].append(getAttribute(\"temperature\", i[\"temperature\"]))\n",
    "    token[\"attributes\"].append(getAttribute(\"type\", i[\"type\"]))\n",
    "    token[\"attributes\"].append(getAttribute(\"position\", i[\"position\"]))\n",
    "\n",
    "    with open('./metadata/' + str(token_id) + \".json\", 'w') as outfile:\n",
    "        json.dump(token, outfile, indent=4)\n",
    "f.close()"
   ]
  },
  {
   "cell_type": "code",
   "execution_count": null,
   "metadata": {},
   "outputs": [],
   "source": []
  }
 ],
 "metadata": {
  "kernelspec": {
   "display_name": "Python 3.9.13 64-bit ('3.9.13')",
   "language": "python",
   "name": "python3"
  },
  "language_info": {
   "codemirror_mode": {
    "name": "ipython",
    "version": 3
   },
   "file_extension": ".py",
   "mimetype": "text/x-python",
   "name": "python",
   "nbconvert_exporter": "python",
   "pygments_lexer": "ipython3",
   "version": "3.9.13"
  },
  "orig_nbformat": 4,
  "vscode": {
   "interpreter": {
    "hash": "9e55562afe14854713c8a25ad3f9c3cfc9555fbd3cebee922bdac9b45da2ad9b"
   }
  }
 },
 "nbformat": 4,
 "nbformat_minor": 2
}
